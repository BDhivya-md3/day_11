{
  "nbformat": 4,
  "nbformat_minor": 0,
  "metadata": {
    "colab": {
      "name": "day_11.ipynb",
      "provenance": [],
      "authorship_tag": "ABX9TyP5aEsvE6KSb7M+DXpjh3RV",
      "include_colab_link": true
    },
    "kernelspec": {
      "name": "python3",
      "display_name": "Python 3"
    },
    "language_info": {
      "name": "python"
    }
  },
  "cells": [
    {
      "cell_type": "markdown",
      "metadata": {
        "id": "view-in-github",
        "colab_type": "text"
      },
      "source": [
        "<a href=\"https://colab.research.google.com/github/BDhivya-md3/day_11/blob/main/day_11.ipynb\" target=\"_parent\"><img src=\"https://colab.research.google.com/assets/colab-badge.svg\" alt=\"Open In Colab\"/></a>"
      ]
    },
    {
      "cell_type": "markdown",
      "metadata": {
        "id": "wvYF6Q4PEGWE"
      },
      "source": [
        "**k fold cross validation**"
      ]
    },
    {
      "cell_type": "code",
      "metadata": {
        "id": "W0b6PM4L8X_p"
      },
      "source": [
        "#import libraries\n",
        "import pandas as pd\n",
        "import matplotlib.pyplot as plt\n",
        "import numpy as np"
      ],
      "execution_count": 1,
      "outputs": []
    },
    {
      "cell_type": "code",
      "metadata": {
        "colab": {
          "base_uri": "https://localhost:8080/"
        },
        "id": "BuHi1OJCE8Ak",
        "outputId": "707da7b1-9e32-46d8-8362-b62642528390"
      },
      "source": [
        "dataset = pd.read_csv(\"/content/Data.csv\")\n",
        "x = dataset.iloc[:, :-1].values\n",
        "y = dataset.iloc[:, -1].values\n",
        "print(x)\n",
        "print(y)"
      ],
      "execution_count": 2,
      "outputs": [
        {
          "output_type": "stream",
          "text": [
            "[[1000025       5       1 ...       3       1       1]\n",
            " [1002945       5       4 ...       3       2       1]\n",
            " [1015425       3       1 ...       3       1       1]\n",
            " ...\n",
            " [ 888820       5      10 ...       8      10       2]\n",
            " [ 897471       4       8 ...      10       6       1]\n",
            " [ 897471       4       8 ...      10       4       1]]\n",
            "[2 2 2 2 2 4 2 2 2 2 2 2 4 2 4 4 2 2 4 2 4 4 2 2 4 2 2 2 2 2 2 4 2 2 2 4 2\n",
            " 4 4 4 4 4 4 2 4 2 2 4 4 4 4 4 4 4 4 4 4 4 4 2 4 4 2 4 2 4 4 2 2 4 2 4 4 2\n",
            " 2 2 2 2 2 2 2 2 4 4 4 4 2 2 2 2 2 2 2 2 2 2 4 4 4 4 2 4 4 4 4 4 2 4 2 4 4\n",
            " 4 2 2 2 4 2 2 2 2 4 4 4 2 4 2 4 2 2 2 4 2 2 2 2 2 2 2 2 4 2 2 4 2 2 4 2 4\n",
            " 4 2 2 4 2 2 4 4 2 2 2 2 4 4 2 2 2 2 2 4 4 4 2 4 2 4 2 2 2 4 4 2 4 4 4 2 4\n",
            " 4 2 2 2 2 2 2 2 2 4 4 2 2 2 4 4 2 2 2 4 4 2 4 4 4 2 2 4 2 2 4 4 4 4 2 4 4\n",
            " 2 4 4 4 2 4 2 4 4 4 4 2 2 2 2 2 2 4 4 2 2 4 2 4 4 4 2 2 2 2 4 4 4 4 4 2 4\n",
            " 4 4 2 4 2 4 4 2 2 2 2 4 2 2 4 4 4 4 4 2 4 4 2 2 4 4 2 2 4 4 2 4 2 4 4 2 2\n",
            " 4 2 2 2 4 2 2 4 4 2 2 4 2 4 2 2 4 2 4 4 4 2 2 4 4 2 4 2 2 4 4 2 2 2 4 2 2\n",
            " 2 4 4 2 2 2 4 2 2 4 4 4 4 4 4 2 2 2 2 4 4 2 2 2 2 2 2 2 2 2 2 2 2 2 4 2 2\n",
            " 2 2 4 2 2 2 2 4 2 2 2 2 2 2 2 2 4 2 2 2 2 2 2 2 2 2 2 4 2 4 2 4 2 2 2 2 4\n",
            " 2 2 2 4 2 4 2 2 2 2 2 2 2 4 4 2 2 2 4 2 2 2 2 2 2 2 2 4 2 2 2 4 2 4 4 4 2\n",
            " 2 2 2 2 2 2 4 4 4 2 2 2 2 2 2 2 2 2 2 2 4 2 2 4 4 2 2 2 4 4 4 2 4 2 4 2 2\n",
            " 2 2 2 2 2 2 2 2 2 2 4 2 2 2 2 2 2 2 4 4 2 2 2 4 2 2 4 4 2 2 2 2 2 2 4 2 2\n",
            " 2 2 2 2 2 2 2 2 2 2 2 2 2 4 2 2 4 2 2 2 2 2 2 2 2 2 2 2 2 2 2 2 4 2 2 4 4\n",
            " 4 4 2 2 4 2 2 2 2 2 2 4 4 2 2 2 4 2 4 2 4 4 4 2 4 2 2 2 2 2 2 2 2 4 4 4 2\n",
            " 2 4 2 4 4 4 2 2 2 2 2 2 2 2 2 2 2 2 4 2 2 2 2 2 2 4 2 2 4 2 2 2 2 2 2 2 2\n",
            " 2 2 2 4 2 2 2 2 2 2 2 2 2 4 2 2 2 2 2 2 2 2 2 4 4 4 2 2 2 2 2 2 2 2 2 4 4\n",
            " 2 2 2 2 2 2 2 2 2 4 2 2 2 2 4 4 4]\n"
          ],
          "name": "stdout"
        }
      ]
    },
    {
      "cell_type": "code",
      "metadata": {
        "colab": {
          "base_uri": "https://localhost:8080/"
        },
        "id": "kxJFFrZCFJCs",
        "outputId": "7ad26312-a65f-4973-deb2-f12d38d0bc05"
      },
      "source": [
        "#splitting the dataset into training and test sets\n",
        "from sklearn.model_selection import train_test_split\n",
        "x_train,x_test,y_train,y_test = train_test_split(x,y,test_size =0.25)\n",
        "print(x_train)\n",
        "print(y_train)\n",
        "print(x_test)\n",
        "print(y_test)"
      ],
      "execution_count": 3,
      "outputs": [
        {
          "output_type": "stream",
          "text": [
            "[[1017122       8      10 ...       9       7       1]\n",
            " [ 492561       4       3 ...       2       1       1]\n",
            " [ 785615       8       6 ...       3       4       2]\n",
            " ...\n",
            " [1131411       1       1 ...       2       1       1]\n",
            " [1084139       6       3 ...       4       1       1]\n",
            " [ 672113       7       5 ...       5       3       1]]\n",
            "[4 2 4 4 4 2 2 4 4 2 4 2 2 4 2 2 2 2 2 4 2 2 4 2 2 2 4 4 2 2 2 2 2 4 2 4 2\n",
            " 4 4 4 2 2 2 2 2 2 2 4 2 2 4 2 4 4 2 2 4 2 4 4 2 4 2 2 4 2 4 4 4 2 2 2 2 4\n",
            " 4 2 2 2 4 2 4 4 4 2 2 2 2 2 2 2 2 2 2 2 4 4 4 2 4 2 4 2 4 2 2 4 2 2 2 2 2\n",
            " 2 2 2 2 2 2 4 2 2 2 4 2 2 4 2 2 2 2 2 2 2 2 2 2 2 4 2 2 4 2 4 4 2 2 2 2 2\n",
            " 4 2 4 2 2 4 2 4 2 2 2 2 2 2 2 2 4 2 4 2 2 4 2 2 2 2 2 2 4 2 2 2 4 2 4 2 2\n",
            " 2 4 2 4 4 4 2 2 2 2 4 2 4 2 2 2 2 2 4 2 4 4 4 2 4 2 2 4 2 4 2 4 4 2 2 4 2\n",
            " 2 2 2 4 4 4 2 2 4 4 2 4 2 4 2 2 2 2 2 2 2 4 2 2 2 4 4 2 2 4 4 4 2 4 4 4 4\n",
            " 2 2 2 2 4 2 2 2 4 2 2 2 4 4 2 2 2 4 2 2 2 2 2 2 4 2 2 2 2 2 2 2 4 2 2 4 4\n",
            " 4 2 2 2 4 4 2 2 4 2 4 2 2 4 2 2 4 4 2 2 2 2 2 2 2 2 2 2 2 2 2 2 2 4 2 4 2\n",
            " 2 2 2 4 2 4 2 2 2 2 2 2 2 2 4 4 2 2 2 4 2 2 2 2 4 2 2 2 2 2 4 2 4 2 2 4 2\n",
            " 2 2 2 4 2 4 2 4 4 2 2 2 2 2 4 2 4 4 2 2 2 2 2 4 2 4 2 2 4 2 2 2 4 2 2 4 2\n",
            " 2 4 2 2 4 2 2 4 4 2 2 2 2 2 4 2 2 4 4 2 2 2 2 4 2 4 2 2 4 2 2 4 2 4 2 2 4\n",
            " 2 4 2 2 2 4 2 4 2 2 2 2 2 2 2 2 4 4 2 2 4 4 2 2 2 2 4 2 2 2 2 4 4 2 2 2 2\n",
            " 4 2 4 2 2 2 4 2 2 4 4 4 4 4 4 2 4 4 2 2 4 2 4 4 2 2 2 4 2 4 4]\n",
            "[[1182404       4       2 ...       1       1       1]\n",
            " [1306282       6       6 ...       8      10       2]\n",
            " [1339781       4       1 ...       3       1       1]\n",
            " ...\n",
            " [ 807657       6       1 ...       1       1       1]\n",
            " [1345593       3       1 ...       2       1       1]\n",
            " [1217952       4       1 ...       2       1       1]]\n",
            "[2 4 2 2 2 4 4 2 2 4 4 4 2 2 2 2 4 2 4 2 4 4 4 2 4 4 4 4 2 2 4 2 2 2 2 2 2\n",
            " 2 2 2 4 2 4 4 2 4 2 2 2 2 2 2 2 2 2 2 4 2 2 2 4 4 4 2 2 2 4 2 2 4 4 2 2 4\n",
            " 2 2 2 4 4 2 2 2 2 4 4 4 4 4 4 2 4 2 4 4 4 4 2 2 2 4 2 2 2 2 2 4 2 4 4 2 4\n",
            " 2 4 4 4 2 2 2 2 2 2 2 4 4 4 4 4 4 2 2 2 4 2 2 4 4 2 4 4 2 2 2 2 2 2 4 2 2\n",
            " 2 2 2 2 2 2 4 2 2 2 2 4 2 4 2 4 4 2 2 4 2 2 2]\n"
          ],
          "name": "stdout"
        }
      ]
    },
    {
      "cell_type": "code",
      "metadata": {
        "colab": {
          "base_uri": "https://localhost:8080/"
        },
        "id": "cN0r7k5oFg9s",
        "outputId": "67130463-cec4-4dee-a795-02f54137e077"
      },
      "source": [
        "#train the xgboost model\n",
        "from xgboost import XGBClassifier\n",
        "xgb = XGBClassifier()\n",
        "xgb.fit(x_train,y_train)"
      ],
      "execution_count": 4,
      "outputs": [
        {
          "output_type": "execute_result",
          "data": {
            "text/plain": [
              "XGBClassifier(base_score=0.5, booster='gbtree', colsample_bylevel=1,\n",
              "              colsample_bynode=1, colsample_bytree=1, gamma=0,\n",
              "              learning_rate=0.1, max_delta_step=0, max_depth=3,\n",
              "              min_child_weight=1, missing=None, n_estimators=100, n_jobs=1,\n",
              "              nthread=None, objective='binary:logistic', random_state=0,\n",
              "              reg_alpha=0, reg_lambda=1, scale_pos_weight=1, seed=None,\n",
              "              silent=None, subsample=1, verbosity=1)"
            ]
          },
          "metadata": {
            "tags": []
          },
          "execution_count": 4
        }
      ]
    },
    {
      "cell_type": "code",
      "metadata": {
        "id": "m-MrdA5EF47k"
      },
      "source": [
        "#pip install xgboost"
      ],
      "execution_count": null,
      "outputs": []
    },
    {
      "cell_type": "code",
      "metadata": {
        "colab": {
          "base_uri": "https://localhost:8080/",
          "height": 235
        },
        "id": "00BJOPyVGEYE",
        "outputId": "73e74e33-a732-487d-fefd-029a9a995d45"
      },
      "source": [
        "#confusion matrix and accuracy score\n",
        "from sklearn.metrics import accuracy_score,confusion_matrix\n",
        "cm = confusion_matrix(y_pred,y_test)\n",
        "print(cm)\n",
        "accuracy_score(y_test,y_pred)"
      ],
      "execution_count": 6,
      "outputs": [
        {
          "output_type": "error",
          "ename": "NameError",
          "evalue": "ignored",
          "traceback": [
            "\u001b[0;31m---------------------------------------------------------------------------\u001b[0m",
            "\u001b[0;31mNameError\u001b[0m                                 Traceback (most recent call last)",
            "\u001b[0;32m<ipython-input-6-175c9745d13b>\u001b[0m in \u001b[0;36m<module>\u001b[0;34m()\u001b[0m\n\u001b[1;32m      1\u001b[0m \u001b[0;31m#confusion matrix and accuracy score\u001b[0m\u001b[0;34m\u001b[0m\u001b[0;34m\u001b[0m\u001b[0;34m\u001b[0m\u001b[0m\n\u001b[1;32m      2\u001b[0m \u001b[0;32mfrom\u001b[0m \u001b[0msklearn\u001b[0m\u001b[0;34m.\u001b[0m\u001b[0mmetrics\u001b[0m \u001b[0;32mimport\u001b[0m \u001b[0maccuracy_score\u001b[0m\u001b[0;34m,\u001b[0m\u001b[0mconfusion_matrix\u001b[0m\u001b[0;34m\u001b[0m\u001b[0;34m\u001b[0m\u001b[0m\n\u001b[0;32m----> 3\u001b[0;31m \u001b[0mcm\u001b[0m \u001b[0;34m=\u001b[0m \u001b[0mconfusion_matrix\u001b[0m\u001b[0;34m(\u001b[0m\u001b[0my_pred\u001b[0m\u001b[0;34m,\u001b[0m\u001b[0my_test\u001b[0m\u001b[0;34m)\u001b[0m\u001b[0;34m\u001b[0m\u001b[0;34m\u001b[0m\u001b[0m\n\u001b[0m\u001b[1;32m      4\u001b[0m \u001b[0mprint\u001b[0m\u001b[0;34m(\u001b[0m\u001b[0mcm\u001b[0m\u001b[0;34m)\u001b[0m\u001b[0;34m\u001b[0m\u001b[0;34m\u001b[0m\u001b[0m\n\u001b[1;32m      5\u001b[0m \u001b[0maccuracy_score\u001b[0m\u001b[0;34m(\u001b[0m\u001b[0my_test\u001b[0m\u001b[0;34m,\u001b[0m\u001b[0my_pred\u001b[0m\u001b[0;34m)\u001b[0m\u001b[0;34m\u001b[0m\u001b[0;34m\u001b[0m\u001b[0m\n",
            "\u001b[0;31mNameError\u001b[0m: name 'y_pred' is not defined"
          ]
        }
      ]
    },
    {
      "cell_type": "code",
      "metadata": {
        "colab": {
          "base_uri": "https://localhost:8080/"
        },
        "id": "yKJEegzSGEUo",
        "outputId": "5f9bbefc-e095-4943-f558-0fa179a7156e"
      },
      "source": [
        "#implement k-fold cross validation\n",
        "from sklearn.model_selection import cross_val_score\n",
        "accuracies = cross_val_score(estimator = xgb,X =x_train,y = y_train,cv =40)\n",
        "print(\"accuracy : {:.2f}%\".format(accuracies.mean()*100))\n",
        "print(\"standard deviation :{:.2f}%\".format(accuracies.std()*100))"
      ],
      "execution_count": 10,
      "outputs": [
        {
          "output_type": "stream",
          "text": [
            "accuracy : 96.88%\n",
            "standard deviation :3.83%\n"
          ],
          "name": "stdout"
        }
      ]
    },
    {
      "cell_type": "code",
      "metadata": {
        "id": "Oz_rtyKlIitC"
      },
      "source": [
        ""
      ],
      "execution_count": null,
      "outputs": []
    }
  ]
}